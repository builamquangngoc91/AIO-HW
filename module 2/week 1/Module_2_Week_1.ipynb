{
  "nbformat": 4,
  "nbformat_minor": 0,
  "metadata": {
    "colab": {
      "provenance": []
    },
    "kernelspec": {
      "name": "python3",
      "display_name": "Python 3"
    },
    "language_info": {
      "name": "python"
    }
  },
  "cells": [
    {
      "cell_type": "code",
      "execution_count": 2,
      "metadata": {
        "colab": {
          "base_uri": "https://localhost:8080/"
        },
        "id": "jwD-rWZbVABz",
        "outputId": "9fce5caa-246b-44d6-bcc9-33b5ce94b4e9"
      },
      "outputs": [
        {
          "output_type": "stream",
          "name": "stdout",
          "text": [
            "[0 1 2 3 4 5 6 7 8 9]\n"
          ]
        }
      ],
      "source": [
        "# question 1\n",
        "import numpy as np\n",
        "arr = np.arange(0, 10, 1)\n",
        "print(arr)"
      ]
    },
    {
      "cell_type": "code",
      "source": [
        "# question 2\n",
        "print(np.ones((3, 3)) > 0)\n",
        "print(np.ones((3, 3), dtype=bool))\n",
        "print(np.full((3, 3), fill_value=True, dtype=bool))"
      ],
      "metadata": {
        "colab": {
          "base_uri": "https://localhost:8080/"
        },
        "id": "rIKALW-hVSCK",
        "outputId": "0ab3b56e-1211-414c-c4f7-ddf8758462eb"
      },
      "execution_count": 4,
      "outputs": [
        {
          "output_type": "stream",
          "name": "stdout",
          "text": [
            "[[ True  True  True]\n",
            " [ True  True  True]\n",
            " [ True  True  True]]\n",
            "[[ True  True  True]\n",
            " [ True  True  True]\n",
            " [ True  True  True]]\n",
            "[[ True  True  True]\n",
            " [ True  True  True]\n",
            " [ True  True  True]]\n"
          ]
        }
      ]
    },
    {
      "cell_type": "code",
      "source": [
        "# question 3\n",
        "import numpy as np\n",
        "arr = np.arange(0, 10)\n",
        "print(arr[arr%2 == 1])"
      ],
      "metadata": {
        "colab": {
          "base_uri": "https://localhost:8080/"
        },
        "id": "GxIBE0nkVuLf",
        "outputId": "c1b91454-bb97-4939-c0e9-c7bf4a8aa4c6"
      },
      "execution_count": 8,
      "outputs": [
        {
          "output_type": "stream",
          "name": "stdout",
          "text": [
            "[1 3 5 7 9]\n"
          ]
        }
      ]
    },
    {
      "cell_type": "code",
      "source": [
        "# question 4\n",
        "import numpy as np\n",
        "arr = np.arange(0, 10)\n",
        "arr[arr%2 == 1] = -1\n",
        "print(arr)"
      ],
      "metadata": {
        "colab": {
          "base_uri": "https://localhost:8080/"
        },
        "id": "1lKFjYOtV6UI",
        "outputId": "f53d23cf-57ec-4dca-a2bd-ba769b8eb5e6"
      },
      "execution_count": 6,
      "outputs": [
        {
          "output_type": "stream",
          "name": "stdout",
          "text": [
            "[ 0 -1  2 -1  4 -1  6 -1  8 -1]\n"
          ]
        }
      ]
    },
    {
      "cell_type": "code",
      "source": [
        "# question 5\n",
        "import numpy as np\n",
        "arr = np.arange(0, 10)\n",
        "arr_2d = arr.reshape(2, -1)\n",
        "print(arr_2d)"
      ],
      "metadata": {
        "colab": {
          "base_uri": "https://localhost:8080/"
        },
        "id": "m_H8RCQfWGpZ",
        "outputId": "02863d03-cd23-4ac9-880e-831622dabac2"
      },
      "execution_count": 7,
      "outputs": [
        {
          "output_type": "stream",
          "name": "stdout",
          "text": [
            "[[0 1 2 3 4]\n",
            " [5 6 7 8 9]]\n"
          ]
        }
      ]
    },
    {
      "cell_type": "code",
      "source": [
        "# question 6\n",
        "import numpy as np\n",
        "arr = np.arange(10).reshape(2, -1)\n",
        "arr2 = np.repeat(1, 10).reshape(2, -1)\n",
        "c = np.concatenate((arr, arr2), axis=0)\n",
        "print(\"Result: \\n\", c)"
      ],
      "metadata": {
        "colab": {
          "base_uri": "https://localhost:8080/"
        },
        "id": "Dw6wVHNPWYZQ",
        "outputId": "15b8f340-7cba-4526-9944-c514b00eb657"
      },
      "execution_count": 10,
      "outputs": [
        {
          "output_type": "stream",
          "name": "stdout",
          "text": [
            "Result: \n",
            " [[0 1 2 3 4]\n",
            " [5 6 7 8 9]\n",
            " [1 1 1 1 1]\n",
            " [1 1 1 1 1]]\n"
          ]
        }
      ]
    },
    {
      "cell_type": "code",
      "source": [
        "# question 7\n",
        "import numpy as np\n",
        "arr1 = np.arange(10).reshape(2, -1)\n",
        "arr2 = np.repeat(1, 10).reshape(2, -1)\n",
        "c = np.concatenate((arr1, arr2), axis=1)\n",
        "print(\"Result: \\n\", c)"
      ],
      "metadata": {
        "colab": {
          "base_uri": "https://localhost:8080/"
        },
        "id": "b4SoI3MkW3EX",
        "outputId": "2c4c87f5-b11b-4337-9a27-6c4506dacd7b"
      },
      "execution_count": 11,
      "outputs": [
        {
          "output_type": "stream",
          "name": "stdout",
          "text": [
            "Result: \n",
            " [[0 1 2 3 4 1 1 1 1 1]\n",
            " [5 6 7 8 9 1 1 1 1 1]]\n"
          ]
        }
      ]
    },
    {
      "cell_type": "code",
      "source": [
        "# question 8\n",
        "import numpy as np\n",
        "arr = np.array([1, 2, 3])\n",
        "print(np.repeat(arr, 3))\n",
        "print(np.tile(arr, 3))"
      ],
      "metadata": {
        "colab": {
          "base_uri": "https://localhost:8080/"
        },
        "id": "QTP-fkwoXLA9",
        "outputId": "7dc13ff7-671d-422c-f0ae-c13b8d15f5e9"
      },
      "execution_count": 12,
      "outputs": [
        {
          "output_type": "stream",
          "name": "stdout",
          "text": [
            "[1 1 1 2 2 2 3 3 3]\n",
            "[1 2 3 1 2 3 1 2 3]\n"
          ]
        }
      ]
    },
    {
      "cell_type": "code",
      "source": [
        "# question 9\n",
        "import numpy as np\n",
        "a = np.array([2, 6, 1, 9, 10, 3, 27])\n",
        "index = np.where((a >= 5) & (a <= 10))\n",
        "print(\"result\", a[index])"
      ],
      "metadata": {
        "colab": {
          "base_uri": "https://localhost:8080/"
        },
        "id": "F7W5girkXit5",
        "outputId": "dfd4c495-82df-4248-f4cd-b4db0954cbfd"
      },
      "execution_count": 13,
      "outputs": [
        {
          "output_type": "stream",
          "name": "stdout",
          "text": [
            "result [ 6  9 10]\n"
          ]
        }
      ]
    },
    {
      "cell_type": "code",
      "source": [
        "# question 10\n",
        "import numpy as np\n",
        "\n",
        "def maxx(x, y):\n",
        "  if x >= y:\n",
        "    return x\n",
        "  else:\n",
        "    return y\n",
        "\n",
        "a = np.array([5, 7, 9, 8, 6, 4, 5])\n",
        "b = np.array([6, 3, 4, 8, 9, 7, 1])\n",
        "\n",
        "pair_max = np.vectorize(maxx,otypes=[float])\n",
        "\n",
        "print(pair_max(a, b))"
      ],
      "metadata": {
        "colab": {
          "base_uri": "https://localhost:8080/"
        },
        "id": "sfauJ712XygK",
        "outputId": "7cf2af43-2fab-439c-c6b4-dc17eb43363e"
      },
      "execution_count": 14,
      "outputs": [
        {
          "output_type": "stream",
          "name": "stdout",
          "text": [
            "[6. 7. 9. 8. 9. 7. 5.]\n"
          ]
        }
      ]
    },
    {
      "cell_type": "code",
      "source": [
        "# question 11\n",
        "import numpy as np\n",
        "\n",
        "a = np.array([5, 7, 9, 8, 6, 4, 5])\n",
        "b = np.array([6, 3, 4, 8, 9, 7, 1])\n",
        "\n",
        "print(\"Result\", np.where(a < b, b, a))"
      ],
      "metadata": {
        "colab": {
          "base_uri": "https://localhost:8080/"
        },
        "id": "qjwn1rhfYK_X",
        "outputId": "6d011612-ad4e-47ae-f492-1c6e9954dd43"
      },
      "execution_count": 15,
      "outputs": [
        {
          "output_type": "stream",
          "name": "stdout",
          "text": [
            "Result [6 7 9 8 9 7 5]\n"
          ]
        }
      ]
    },
    {
      "cell_type": "code",
      "source": [
        "# question 12\n",
        "!gdown 1i9dqan21DjQoG5Q_VEvm0LrVwAlXD0vB"
      ],
      "metadata": {
        "colab": {
          "base_uri": "https://localhost:8080/"
        },
        "id": "BIT6FIWHYcws",
        "outputId": "45b3e2fb-b1b6-400c-9881-f9214f52c6fa"
      },
      "execution_count": 16,
      "outputs": [
        {
          "output_type": "stream",
          "name": "stdout",
          "text": [
            "Downloading...\n",
            "From: https://drive.google.com/uc?id=1i9dqan21DjQoG5Q_VEvm0LrVwAlXD0vB\n",
            "To: /content/dog.jpeg\n",
            "\r  0% 0.00/33.7k [00:00<?, ?B/s]\r100% 33.7k/33.7k [00:00<00:00, 33.8MB/s]\n"
          ]
        }
      ]
    },
    {
      "cell_type": "code",
      "source": [
        "import matplotlib.image as mpimg\n",
        "\n",
        "img = mpimg.imread('/content/dog.jpeg')\n",
        "gray_img_01 = (np.max(img, axis=-1) + np.min(img, axis=-1)) / 2\n",
        "print(gray_img_01[0, 0])"
      ],
      "metadata": {
        "colab": {
          "base_uri": "https://localhost:8080/"
        },
        "id": "30AOtMXtZPZ_",
        "outputId": "fd908d96-700d-4273-eb4a-7f7c403c10a4"
      },
      "execution_count": 25,
      "outputs": [
        {
          "output_type": "stream",
          "name": "stdout",
          "text": [
            "102.5\n"
          ]
        }
      ]
    },
    {
      "cell_type": "code",
      "source": [
        "# question 13\n",
        "import matplotlib.image as mpimg\n",
        "\n",
        "img = mpimg.imread('/content/dog.jpeg')\n",
        "gray_img_02 = np.sum(img, axis=-1) / 3\n",
        "print(gray_img_02[0, 0])"
      ],
      "metadata": {
        "colab": {
          "base_uri": "https://localhost:8080/"
        },
        "id": "oks61pg8cu8Z",
        "outputId": "6c8b5767-c573-4506-9ae4-4e1c3afd2e3c"
      },
      "execution_count": 34,
      "outputs": [
        {
          "output_type": "stream",
          "name": "stdout",
          "text": [
            "107.66666666666667\n"
          ]
        }
      ]
    },
    {
      "cell_type": "code",
      "source": [
        "# question 14\n",
        "import matplotlib.image as mpimg\n",
        "\n",
        "img = mpimg.imread('/content/dog.jpeg')\n",
        "gray_img_03 = np.dot(img, [0.21, 0.72, 0.07])\n",
        "print(gray_img_03[0, 0])"
      ],
      "metadata": {
        "colab": {
          "base_uri": "https://localhost:8080/"
        },
        "id": "jx6w2AA2c_Q5",
        "outputId": "20deaa8b-faa0-4f22-e033-e117c96cf2de"
      },
      "execution_count": 35,
      "outputs": [
        {
          "output_type": "stream",
          "name": "stdout",
          "text": [
            "126.22999999999999\n"
          ]
        }
      ]
    },
    {
      "cell_type": "code",
      "source": [
        "# question 15\n",
        "! gdown 1iA0WmVfW88HyJvTBSQDI5vesf-pgKabq\n"
      ],
      "metadata": {
        "colab": {
          "base_uri": "https://localhost:8080/"
        },
        "id": "rHxHoMtNfMR1",
        "outputId": "1111f556-8981-4d28-a57e-4e174e759cea"
      },
      "execution_count": 37,
      "outputs": [
        {
          "output_type": "stream",
          "name": "stdout",
          "text": [
            "Downloading...\n",
            "From: https://drive.google.com/uc?id=1iA0WmVfW88HyJvTBSQDI5vesf-pgKabq\n",
            "To: /content/advertising.csv\n",
            "\r  0% 0.00/4.06k [00:00<?, ?B/s]\r100% 4.06k/4.06k [00:00<00:00, 10.7MB/s]\n"
          ]
        }
      ]
    },
    {
      "cell_type": "code",
      "source": [
        "import pandas as pd\n",
        "df = pd.read_csv('/content/advertising.csv')\n",
        "\n",
        "data = df.to_numpy()"
      ],
      "metadata": {
        "id": "hkwN4YzyfTHh"
      },
      "execution_count": 39,
      "outputs": []
    },
    {
      "cell_type": "code",
      "source": [
        "sales = data[:, 3]\n",
        "max = np.max(sales)\n",
        "index = np.argmax(sales)\n",
        "print(f'Max: {max} - Index: {index}')"
      ],
      "metadata": {
        "colab": {
          "base_uri": "https://localhost:8080/"
        },
        "id": "HhXNU8Rrfc-A",
        "outputId": "4d8d9f60-571a-4c76-c467-aee4fa1df801"
      },
      "execution_count": 50,
      "outputs": [
        {
          "output_type": "stream",
          "name": "stdout",
          "text": [
            "Max: 27.0 - Index: 175\n"
          ]
        }
      ]
    },
    {
      "cell_type": "code",
      "source": [
        "# question 16\n",
        "tv = data[:, 0]\n",
        "print(np.mean(tv))"
      ],
      "metadata": {
        "colab": {
          "base_uri": "https://localhost:8080/"
        },
        "id": "r8b5u2tNhU-H",
        "outputId": "b1bbd070-6233-4451-fc19-5f5dd2a024c1"
      },
      "execution_count": 51,
      "outputs": [
        {
          "output_type": "stream",
          "name": "stdout",
          "text": [
            "147.0425\n"
          ]
        }
      ]
    },
    {
      "cell_type": "code",
      "source": [
        "# question 17\n",
        "print(np.count_nonzero(sales >= 20))\n",
        "print(np.sum(np.where(sales >= 20, 1, 0)))"
      ],
      "metadata": {
        "colab": {
          "base_uri": "https://localhost:8080/"
        },
        "id": "tkgpiqbvhi4D",
        "outputId": "21ad8a91-bc63-48f0-8749-21e93595e5de"
      },
      "execution_count": 53,
      "outputs": [
        {
          "output_type": "stream",
          "name": "stdout",
          "text": [
            "40\n",
            "40\n"
          ]
        }
      ]
    },
    {
      "cell_type": "code",
      "source": [
        "# question 18\n",
        "radio = data[:, 1]\n",
        "print(np.mean(radio, where=sales >= 15))"
      ],
      "metadata": {
        "colab": {
          "base_uri": "https://localhost:8080/"
        },
        "id": "GAGqaG4xh91G",
        "outputId": "e890e4b6-ed3c-40ad-e31d-7cb8e88788ac"
      },
      "execution_count": 56,
      "outputs": [
        {
          "output_type": "stream",
          "name": "stdout",
          "text": [
            "26.22293577981651\n"
          ]
        }
      ]
    },
    {
      "cell_type": "code",
      "source": [
        "# question 19\n",
        "newspaper = data[:, 2]\n",
        "mean_newspaper = np.mean(newspaper)\n",
        "print(np.sum(sales, where=newspaper > mean_newspaper))"
      ],
      "metadata": {
        "colab": {
          "base_uri": "https://localhost:8080/"
        },
        "id": "n5230dxEihTA",
        "outputId": "152edf9d-b62e-40fb-8f34-7291fe29052c"
      },
      "execution_count": 57,
      "outputs": [
        {
          "output_type": "stream",
          "name": "stdout",
          "text": [
            "1405.1000000000006\n"
          ]
        }
      ]
    },
    {
      "cell_type": "code",
      "source": [
        "# question 20\n",
        "mean_sales = np.mean(sales)\n",
        "scores = sales[:]\n",
        "scores = np.where(scores > mean_sales, 'Good', np.where(scores < mean_sales, 'Bad', 'Average'))\n",
        "print(scores[7:10])"
      ],
      "metadata": {
        "colab": {
          "base_uri": "https://localhost:8080/"
        },
        "id": "H8zbgajfi6xW",
        "outputId": "d78f8fe6-a2fa-438f-9753-c993c3b18287"
      },
      "execution_count": 61,
      "outputs": [
        {
          "output_type": "stream",
          "name": "stdout",
          "text": [
            "['Bad' 'Bad' 'Good']\n"
          ]
        }
      ]
    },
    {
      "cell_type": "code",
      "source": [
        "# question 21\n",
        "nearest_mean_sales_idx = np.argmin(np.abs(sales - mean_sales))\n",
        "sales[nearest_mean_sales_idx]\n",
        "scores = sales[:]\n",
        "scores = np.where(scores > sales[nearest_mean_sales_idx], 'Good', np.where(scores < sales[nearest_mean_sales_idx], 'Bad', 'Average'))\n",
        "print(scores[7:10])"
      ],
      "metadata": {
        "colab": {
          "base_uri": "https://localhost:8080/"
        },
        "id": "50cMEqxIlEWU",
        "outputId": "aaf3d706-2e92-4812-925e-57fb0bb1ee28"
      },
      "execution_count": 73,
      "outputs": [
        {
          "output_type": "stream",
          "name": "stdout",
          "text": [
            "['Bad' 'Bad' 'Good']\n"
          ]
        }
      ]
    }
  ]
}