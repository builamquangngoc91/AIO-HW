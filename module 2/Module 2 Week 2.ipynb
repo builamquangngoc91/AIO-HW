{
  "nbformat": 4,
  "nbformat_minor": 0,
  "metadata": {
    "colab": {
      "provenance": []
    },
    "kernelspec": {
      "name": "python3",
      "display_name": "Python 3"
    },
    "language_info": {
      "name": "python"
    }
  },
  "cells": [
    {
      "cell_type": "code",
      "execution_count": 1,
      "metadata": {
        "id": "HpoT2dZ4QZUX"
      },
      "outputs": [],
      "source": [
        "import numpy as np\n",
        "\n",
        "def compute_vector_length(vector):\n",
        "  len_of_vector = np.sqrt(np.dot(vector, vector))\n",
        "  return len_of_vector"
      ]
    },
    {
      "cell_type": "code",
      "source": [
        "def compute_dot_product(vector1, vector2):\n",
        "  dot_product = np.dot(vector1, vector2)\n",
        "  return dot_product"
      ],
      "metadata": {
        "id": "sq7qKaCDQ2WD"
      },
      "execution_count": 2,
      "outputs": []
    },
    {
      "cell_type": "code",
      "source": [
        "def matrix_multi_vector(matrix, vector):\n",
        "  result = np.dot(matrix, vector)\n",
        "  return result"
      ],
      "metadata": {
        "id": "C-0RNcSiQ_Nr"
      },
      "execution_count": 4,
      "outputs": []
    },
    {
      "cell_type": "code",
      "source": [
        "def matrix_multi_matrix(matrix1, matrix2):\n",
        "  result = np.dot(matrix1, matrix2)\n",
        "  return result"
      ],
      "metadata": {
        "id": "RbWEedYdRKUb"
      },
      "execution_count": 5,
      "outputs": []
    },
    {
      "cell_type": "code",
      "source": [
        "def inverse_matrix(matrix):\n",
        "  result = np.linalg.inv(matrix)\n",
        "  return result"
      ],
      "metadata": {
        "id": "vG1-xKJLRgfJ"
      },
      "execution_count": 6,
      "outputs": []
    },
    {
      "cell_type": "code",
      "source": [
        "def compute_eigenvalues_eigenvectors(matrix):\n",
        "  eigenvalues, eigenvectors = np.linalg.eig(matrix)\n",
        "  return eigenvalues, eigenvectors"
      ],
      "metadata": {
        "id": "AJFQUssZRupp"
      },
      "execution_count": 7,
      "outputs": []
    },
    {
      "cell_type": "code",
      "source": [
        "def compute_cosine(v1, v2):\n",
        "  cosine = compute_dot_product(v1, v2) / (compute_vector_length(v1) * compute_vector_length(v2))\n",
        "  return cosine"
      ],
      "metadata": {
        "id": "CR43SLzgR-UT"
      },
      "execution_count": 8,
      "outputs": []
    },
    {
      "cell_type": "code",
      "source": [],
      "metadata": {
        "id": "V5lWFmT5SHEr"
      },
      "execution_count": null,
      "outputs": []
    },
    {
      "cell_type": "code",
      "source": [
        "vector = np.array([-2, 4, 9, 21])\n",
        "result = compute_vector_length(vector)\n",
        "print(result)"
      ],
      "metadata": {
        "colab": {
          "base_uri": "https://localhost:8080/"
        },
        "id": "9XvA0f9LSPQh",
        "outputId": "880c2f3c-62f4-4e33-b926-4361a28f4fd6"
      },
      "execution_count": 9,
      "outputs": [
        {
          "output_type": "stream",
          "name": "stdout",
          "text": [
            "23.280893453645632\n"
          ]
        }
      ]
    },
    {
      "cell_type": "code",
      "source": [
        "v1 = np.array([0, 1, -1, 2])\n",
        "v2 = np.array([2, 5, 1, 0])\n",
        "result = compute_dot_product(v1, v2)\n",
        "print(result)"
      ],
      "metadata": {
        "colab": {
          "base_uri": "https://localhost:8080/"
        },
        "id": "o9GoOFgjSYvo",
        "outputId": "36b161fd-e1cb-4e0a-c5e4-01ad01996309"
      },
      "execution_count": 10,
      "outputs": [
        {
          "output_type": "stream",
          "name": "stdout",
          "text": [
            "4\n"
          ]
        }
      ]
    },
    {
      "cell_type": "code",
      "source": [
        "x = np.array([[1, 2],\n",
        "              [3, 4]])\n",
        "k = np.array([1, 2])\n",
        "print('result \\n', x.dot(k))"
      ],
      "metadata": {
        "colab": {
          "base_uri": "https://localhost:8080/"
        },
        "id": "zOjy7e27Si-r",
        "outputId": "23075954-78ef-4b97-a084-decda51e1b6a"
      },
      "execution_count": 11,
      "outputs": [
        {
          "output_type": "stream",
          "name": "stdout",
          "text": [
            "result \n",
            " [ 5 11]\n"
          ]
        }
      ]
    },
    {
      "cell_type": "code",
      "source": [
        "x = np.array([[-1, 2],\n",
        "              [3, -4]])\n",
        "k = np.array([1, 2])\n",
        "print('result \\n', x@k)"
      ],
      "metadata": {
        "colab": {
          "base_uri": "https://localhost:8080/"
        },
        "id": "pp_eajMUS7TQ",
        "outputId": "3039f53b-1eff-4345-ab04-525e515af3f3"
      },
      "execution_count": 12,
      "outputs": [
        {
          "output_type": "stream",
          "name": "stdout",
          "text": [
            "result \n",
            " [ 3 -5]\n"
          ]
        }
      ]
    },
    {
      "cell_type": "code",
      "source": [
        "m = np.array([[-1, 1, 1], [0, -4, 9]])\n",
        "v = np.array([0, 2, 1])\n",
        "result = matrix_multi_vector(m, v)\n",
        "print(result)"
      ],
      "metadata": {
        "colab": {
          "base_uri": "https://localhost:8080/"
        },
        "id": "VMrUGW4FTLLK",
        "outputId": "f2323a94-d840-47b5-921f-00332ced28f8"
      },
      "execution_count": 13,
      "outputs": [
        {
          "output_type": "stream",
          "name": "stdout",
          "text": [
            "[3 1]\n"
          ]
        }
      ]
    },
    {
      "cell_type": "code",
      "source": [
        "m1 = np.array([[0, 1, 2], [2, -3, 1]])\n",
        "m2 = np.array([[1, -3], [6, 1], [0, -1]])\n",
        "result = matrix_multi_matrix(m1, m2)\n",
        "print(result)"
      ],
      "metadata": {
        "colab": {
          "base_uri": "https://localhost:8080/"
        },
        "id": "KWV-KhD1TcpP",
        "outputId": "ffa7f3c6-4ccb-43c4-b4d7-2f605cc4f41b"
      },
      "execution_count": 14,
      "outputs": [
        {
          "output_type": "stream",
          "name": "stdout",
          "text": [
            "[[  6  -1]\n",
            " [-16 -10]]\n"
          ]
        }
      ]
    },
    {
      "cell_type": "code",
      "source": [
        "m1 = np.eye(3)\n",
        "m2 = np.array([[1, 1, 1], [2, 2, 2], [3, 3, 3]])\n",
        "result = m1@m2\n",
        "print(result)"
      ],
      "metadata": {
        "colab": {
          "base_uri": "https://localhost:8080/"
        },
        "id": "3d8OL4FVTvcZ",
        "outputId": "3156ca59-0ba5-4b34-9046-4e2067b41aae"
      },
      "execution_count": 15,
      "outputs": [
        {
          "output_type": "stream",
          "name": "stdout",
          "text": [
            "[[1. 1. 1.]\n",
            " [2. 2. 2.]\n",
            " [3. 3. 3.]]\n"
          ]
        }
      ]
    },
    {
      "cell_type": "code",
      "source": [
        "m1 = np.eye(2)\n",
        "m1 = np.reshape(m1, (-1, 4))[0]\n",
        "m2 = np.array([[1, 1, 1, 1], [2, 2, 2, 2], [3, 3, 3, 3], [4, 4, 4, 4]])\n",
        "result = m1@m2\n",
        "print(result)"
      ],
      "metadata": {
        "colab": {
          "base_uri": "https://localhost:8080/"
        },
        "id": "n7hGr2gJUBxQ",
        "outputId": "f4d054f2-dfa7-46f4-e3a6-03c43b270ac8"
      },
      "execution_count": 17,
      "outputs": [
        {
          "output_type": "stream",
          "name": "stdout",
          "text": [
            "[5. 5. 5. 5.]\n"
          ]
        }
      ]
    },
    {
      "cell_type": "code",
      "source": [
        "m1 = np.array([[1, 2], [3, 4]])\n",
        "m1 = np.reshape(m1, (-1, 4), \"F\")[0]\n",
        "m2 = np.array([[1, 1, 1, 1], [2, 2, 2, 2], [3, 3, 3, 3], [4, 4, 4, 4]])\n",
        "result = m1@m2\n",
        "print(result)"
      ],
      "metadata": {
        "colab": {
          "base_uri": "https://localhost:8080/"
        },
        "id": "zFSPXbPhUjW1",
        "outputId": "3eb7afb8-a86a-4ff4-bf1b-8c14886d01be"
      },
      "execution_count": 18,
      "outputs": [
        {
          "output_type": "stream",
          "name": "stdout",
          "text": [
            "[29 29 29 29]\n"
          ]
        }
      ]
    },
    {
      "cell_type": "code",
      "source": [
        "m1 = np.array([[-2, 6], [8, -4]])\n",
        "result = inverse_matrix(m1)\n",
        "print(result)"
      ],
      "metadata": {
        "colab": {
          "base_uri": "https://localhost:8080/"
        },
        "id": "Vi8kKT0WUxmK",
        "outputId": "ff5ee886-dd6e-4558-f5a0-146e84da9dfe"
      },
      "execution_count": 19,
      "outputs": [
        {
          "output_type": "stream",
          "name": "stdout",
          "text": [
            "[[0.1  0.15]\n",
            " [0.2  0.05]]\n"
          ]
        }
      ]
    },
    {
      "cell_type": "code",
      "source": [
        "matrix = np.array([[0.9, 0.2], [0.1, 0.8]])\n",
        "eigenvalues, eigenvectors = compute_eigenvalues_eigenvectors(matrix)\n",
        "print(eigenvectors)"
      ],
      "metadata": {
        "colab": {
          "base_uri": "https://localhost:8080/"
        },
        "id": "Pb2ja2rgWWW-",
        "outputId": "820d1a02-691b-456a-dfff-56c4ad91c65c"
      },
      "execution_count": 20,
      "outputs": [
        {
          "output_type": "stream",
          "name": "stdout",
          "text": [
            "[[ 0.89442719 -0.70710678]\n",
            " [ 0.4472136   0.70710678]]\n"
          ]
        }
      ]
    },
    {
      "cell_type": "code",
      "source": [
        "x = np.array([1, 2, 3, 4])\n",
        "y = np.array([1, 0, 3, 0])\n",
        "result = compute_cosine(x, y)\n",
        "print(round(result, 3))"
      ],
      "metadata": {
        "colab": {
          "base_uri": "https://localhost:8080/"
        },
        "id": "aHI9vYsZWkW5",
        "outputId": "7823573f-3e8a-4ba2-932b-b4ddb8c66316"
      },
      "execution_count": 22,
      "outputs": [
        {
          "output_type": "stream",
          "name": "stdout",
          "text": [
            "0.577\n"
          ]
        }
      ]
    }
  ]
}