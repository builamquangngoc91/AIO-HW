{
  "nbformat": 4,
  "nbformat_minor": 0,
  "metadata": {
    "colab": {
      "provenance": [],
      "authorship_tag": "ABX9TyNmLihxMUg2nejrjobaV+7s",
      "include_colab_link": true
    },
    "kernelspec": {
      "name": "python3",
      "display_name": "Python 3"
    },
    "language_info": {
      "name": "python"
    }
  },
  "cells": [
    {
      "cell_type": "markdown",
      "metadata": {
        "id": "view-in-github",
        "colab_type": "text"
      },
      "source": [
        "<a href=\"https://colab.research.google.com/github/builamquangngoc91/AIO-HW/blob/main/Week_2.ipynb\" target=\"_parent\"><img src=\"https://colab.research.google.com/assets/colab-badge.svg\" alt=\"Open In Colab\"/></a>"
      ]
    },
    {
      "cell_type": "code",
      "execution_count": 3,
      "metadata": {
        "colab": {
          "base_uri": "https://localhost:8080/"
        },
        "id": "gXc6cAjIXN74",
        "outputId": "1981df4e-ba18-42fc-ff17-5c071e1ce8a4"
      },
      "outputs": [
        {
          "output_type": "stream",
          "name": "stdout",
          "text": [
            "[5, 5, 5, 5, 10, 12, 33, 33]\n"
          ]
        }
      ],
      "source": [
        "# question 1\n",
        "\n",
        "from collections import deque\n",
        "\n",
        "def max_kernel(num_list, k):\n",
        "  result = []\n",
        "  deq = deque()\n",
        "\n",
        "  for i in range(len(num_list)):\n",
        "    while deq and deq[-1] < num_list[i]:\n",
        "      deq.pop()\n",
        "\n",
        "    if len(deq) == k:\n",
        "      deq.popleft()\n",
        "\n",
        "    deq.append(num_list[i])\n",
        "\n",
        "    if i >= k - 1:\n",
        "      result.append(deq[0])\n",
        "\n",
        "  return result\n",
        "\n",
        "assert max_kernel ([3 , 4 , 5 , 1 , -44] , 3) == [5 , 5 , 5]\n",
        "num_list = [3 , 4 , 5 , 1 , -44 , 5 ,10 , 12 ,33 , 1]\n",
        "k = 3\n",
        "print ( max_kernel ( num_list , k ) )\n",
        "\n"
      ]
    },
    {
      "cell_type": "code",
      "source": [
        "# question 2\n",
        "\n",
        "def character_count(word):\n",
        "  character_statistic = {}\n",
        "\n",
        "  for character in word:\n",
        "    if character in character_statistic:\n",
        "      character_statistic[character] += 1\n",
        "    else:\n",
        "      character_statistic[character] = 1\n",
        "\n",
        "  return character_statistic\n",
        "\n",
        "assert character_count(\"Baby\") == {'B': 1, 'a': 1, 'b': 1, 'y': 1}\n",
        "print(character_count(\"smiles\"))"
      ],
      "metadata": {
        "colab": {
          "base_uri": "https://localhost:8080/"
        },
        "id": "xkI_WX_5cO5E",
        "outputId": "0e32f8ed-7585-449c-a187-95fbfaac2625"
      },
      "execution_count": 6,
      "outputs": [
        {
          "output_type": "stream",
          "name": "stdout",
          "text": [
            "{'s': 2, 'm': 1, 'i': 1, 'l': 1, 'e': 1}\n"
          ]
        }
      ]
    },
    {
      "cell_type": "code",
      "source": [
        "# question 3\n",
        "\n",
        "!gdown https://drive.google.com/uc?id=1IBScGdW2xlNsc9v5zSAya548kNgiOrko\n",
        "\n",
        "def count_word(file_path) :\n",
        "  counter = {}\n",
        "\n",
        "  with open(file_path, 'r') as file:\n",
        "      lines = file.readlines()\n",
        "      for line in lines:\n",
        "          words = line.split()\n",
        "          for word in words:\n",
        "              if word in counter:\n",
        "                  counter[word] += 1\n",
        "              else:\n",
        "                  counter[word] = 1\n",
        "  return counter\n",
        "\n",
        "file_path = '/content/P1_data.txt'\n",
        "result = count_word(file_path)\n",
        "assert result ['who'] == 3\n",
        "print(result['man'])"
      ],
      "metadata": {
        "colab": {
          "base_uri": "https://localhost:8080/"
        },
        "id": "WABXExX_cPH1",
        "outputId": "185b118f-9203-4376-e2aa-a9d565c56774"
      },
      "execution_count": 10,
      "outputs": [
        {
          "output_type": "stream",
          "name": "stdout",
          "text": [
            "Downloading...\n",
            "From: https://drive.google.com/uc?id=1IBScGdW2xlNsc9v5zSAya548kNgiOrko\n",
            "To: /content/P1_data.txt\n",
            "\r  0% 0.00/747 [00:00<?, ?B/s]\r100% 747/747 [00:00<00:00, 2.63MB/s]\n",
            "6\n"
          ]
        }
      ]
    },
    {
      "cell_type": "code",
      "source": [
        "# question 4\n",
        "\n",
        "def levenshtein_distance(token1, token2):\n",
        "  m = len(token1)\n",
        "  n = len(token2)\n",
        "\n",
        "  dp = [[0 for _ in range(n + 1)] for _ in range(m + 1)]\n",
        "\n",
        "  for i in range(m + 1):\n",
        "    dp[i][0] = i\n",
        "\n",
        "  for j in range(n + 1):\n",
        "    dp[0][j] = j\n",
        "\n",
        "  for i in range(1, m + 1):\n",
        "    for j in range(1, n + 1):\n",
        "      cost = 0 if token1[i - 1] == token2[j - 1] else 1\n",
        "      dp[i][j] = min(dp[i - 1][j] + 1, dp[i][j - 1] + 1, dp[i - 1][j - 1] + cost)\n",
        "\n",
        "  distance = dp[m][n]\n",
        "  return distance\n",
        "\n",
        "assert levenshtein_distance(\"hi\", \"hello\") == 4.0\n",
        "print(levenshtein_distance(\"hola\", \"hello\"))"
      ],
      "metadata": {
        "colab": {
          "base_uri": "https://localhost:8080/"
        },
        "id": "OBQwqRgUcPLE",
        "outputId": "4be16d97-bfa2-42e5-8d1f-9b9600d5d22d"
      },
      "execution_count": 11,
      "outputs": [
        {
          "output_type": "stream",
          "name": "stdout",
          "text": [
            "3\n"
          ]
        }
      ]
    },
    {
      "cell_type": "code",
      "source": [
        "# question 5\n",
        "\n",
        "def check_the_number(N):\n",
        "  list_of_numbers = []\n",
        "  results = \"False\"\n",
        "\n",
        "  for i in range(1, 5):\n",
        "    list_of_numbers.append(i)\n",
        "\n",
        "  if N in list_of_numbers:\n",
        "    results = \"True\"\n",
        "\n",
        "  return results\n",
        "\n",
        "N = 7\n",
        "assert check_the_number(N) == \"False\"\n",
        "N = 2\n",
        "assert check_the_number(N) == \"True\"\n",
        "print(check_the_number(N))"
      ],
      "metadata": {
        "colab": {
          "base_uri": "https://localhost:8080/"
        },
        "id": "1MPFEoFdcPNx",
        "outputId": "52469d5d-a04a-4c54-93aa-752290af7bf0"
      },
      "execution_count": 13,
      "outputs": [
        {
          "output_type": "stream",
          "name": "stdout",
          "text": [
            "True\n"
          ]
        }
      ]
    },
    {
      "cell_type": "code",
      "source": [
        "# question 6\n",
        "\n",
        "def my_function(data, max, min):\n",
        "  result = []\n",
        "  for i in data:\n",
        "    if i < min:\n",
        "      result.append(min)\n",
        "    elif i > max:\n",
        "      result.append(max)\n",
        "    else:\n",
        "      result.append(i)\n",
        "  return result\n",
        "\n",
        "my_list = [5 , 2 , 5 , 0 , 1]\n",
        "max = 1\n",
        "min = 0\n",
        "assert my_function (max = max , min = min , data = my_list ) == [1 , 1 , 1 , 0 , 1]\n",
        "my_list = [10 , 2 , 5 , 0 , 1]\n",
        "max = 2\n",
        "min = 1\n",
        "print ( my_function (max = max , min = min , data = my_list ) )"
      ],
      "metadata": {
        "colab": {
          "base_uri": "https://localhost:8080/"
        },
        "id": "CUM43PbncPQo",
        "outputId": "ff971862-1dd7-44f3-b426-e818437393b8"
      },
      "execution_count": 14,
      "outputs": [
        {
          "output_type": "stream",
          "name": "stdout",
          "text": [
            "[2, 2, 2, 1, 1]\n"
          ]
        }
      ]
    },
    {
      "cell_type": "code",
      "source": [
        "# question 7\n",
        "\n",
        "def my_function(x , y) :\n",
        "  x.extend(y)\n",
        "  return x\n",
        "\n",
        "list_num1 = ['a', 2 , 5]\n",
        "list_num2 = [1 , 1]\n",
        "list_num3 = [0 , 0]\n",
        "assert my_function ( list_num1 , my_function ( list_num2 , list_num3 ) ) == ['a', 2 , 5 , 1 , 1 , 0 , 0]\n",
        "\n",
        "list_num1 = [1 , 2]\n",
        "list_num2 = [3 , 4]\n",
        "list_num3 = [0 , 0]\n",
        "\n",
        "print ( my_function ( list_num1 , my_function ( list_num2 , list_num3 ) ) )"
      ],
      "metadata": {
        "colab": {
          "base_uri": "https://localhost:8080/"
        },
        "id": "KsSn7QFHcPTc",
        "outputId": "ca40e376-8ac7-4c85-94b8-7db0a2ea3f8f"
      },
      "execution_count": 19,
      "outputs": [
        {
          "output_type": "stream",
          "name": "stdout",
          "text": [
            "[1, 2, 3, 4, 0, 0]\n"
          ]
        }
      ]
    },
    {
      "cell_type": "code",
      "source": [
        "# question 8\n",
        "\n",
        "def my_function(n):\n",
        "  return min(n)\n",
        "\n",
        "my_list = [1 , 22 , 93 , -100]\n",
        "assert my_function ( my_list ) == -100\n",
        "\n",
        "my_list = [1 , 2 , 3 , -1]\n",
        "print ( my_function ( my_list ) )"
      ],
      "metadata": {
        "colab": {
          "base_uri": "https://localhost:8080/"
        },
        "id": "OE4bP-ogcQT7",
        "outputId": "04ef9fe8-d2ae-49ee-e005-e9ce876bb695"
      },
      "execution_count": 4,
      "outputs": [
        {
          "output_type": "stream",
          "name": "stdout",
          "text": [
            "-1\n"
          ]
        }
      ]
    },
    {
      "cell_type": "code",
      "source": [
        "# question 9\n",
        "\n",
        "def my_function(n):\n",
        "  return max(n)\n",
        "\n",
        "my_list = [1001 , 9 , 100 , 0]\n",
        "assert my_function ( my_list ) == 1001\n",
        "\n",
        "my_list = [1 , 9 , 9 , 0]\n",
        "print ( my_function ( my_list ) )"
      ],
      "metadata": {
        "colab": {
          "base_uri": "https://localhost:8080/"
        },
        "id": "SBBcIH_vcfdd",
        "outputId": "39c8233e-c399-4c68-c9f4-10fb0ad962a4"
      },
      "execution_count": 5,
      "outputs": [
        {
          "output_type": "stream",
          "name": "stdout",
          "text": [
            "9\n"
          ]
        }
      ]
    },
    {
      "cell_type": "code",
      "source": [
        "# question 10\n",
        "\n",
        "def My_function ( integers , number = 1) :\n",
        "  if number in integers :\n",
        "    return True\n",
        "  else :\n",
        "    return False\n",
        "\n",
        "my_list = [1 , 3 , 9 , 4]\n",
        "assert My_function(my_list, -1) == False\n",
        "\n",
        "my_list = [1 , 2 , 3 , 4]\n",
        "print(My_function(my_list, 2))"
      ],
      "metadata": {
        "colab": {
          "base_uri": "https://localhost:8080/"
        },
        "id": "CGTfCY3mc92e",
        "outputId": "48e5381f-cc86-4b6a-96dd-1d75501a35a3"
      },
      "execution_count": 6,
      "outputs": [
        {
          "output_type": "stream",
          "name": "stdout",
          "text": [
            "True\n"
          ]
        }
      ]
    },
    {
      "cell_type": "code",
      "source": [
        "def my_function ( list_nums = [0 , 1 , 2]) :\n",
        "  var = 0\n",
        "  for i in list_nums :\n",
        "    var += i\n",
        "  return var / len(list_nums)\n",
        "\n",
        "assert my_function ([4 , 6 , 8]) == 6\n",
        "print(my_function())"
      ],
      "metadata": {
        "colab": {
          "base_uri": "https://localhost:8080/"
        },
        "id": "faRw9dkYdPsb",
        "outputId": "0e7370ae-7f10-48fc-fdb5-29d1f6a56af0"
      },
      "execution_count": 12,
      "outputs": [
        {
          "output_type": "stream",
          "name": "stdout",
          "text": [
            "1.0\n"
          ]
        }
      ]
    },
    {
      "cell_type": "code",
      "source": [
        "# question 12\n",
        "\n",
        "def my_function ( data ) :\n",
        "  var = []\n",
        "  for i in data :\n",
        "    if i % 3 != 0:\n",
        "      continue\n",
        "    var.append(i)\n",
        "  return var\n",
        "\n",
        "assert my_function ([3 , 9 , 4 , 5]) == [3 , 9]\n",
        "print(my_function([1 , 2 , 3 , 5 , 6]))"
      ],
      "metadata": {
        "colab": {
          "base_uri": "https://localhost:8080/"
        },
        "id": "wwmXZdQnd5nT",
        "outputId": "37c98206-9f77-44dd-d795-9eb1e601543b"
      },
      "execution_count": 13,
      "outputs": [
        {
          "output_type": "stream",
          "name": "stdout",
          "text": [
            "[3, 6]\n"
          ]
        }
      ]
    },
    {
      "cell_type": "code",
      "source": [
        "# question 13\n",
        "\n",
        "def my_function(y):\n",
        "  var = 1\n",
        "\n",
        "  while y > 1:\n",
        "    var *= y\n",
        "    y -= 1\n",
        "  return var\n",
        "\n",
        "assert my_function(8) == 40320\n",
        "print(my_function(4))"
      ],
      "metadata": {
        "colab": {
          "base_uri": "https://localhost:8080/"
        },
        "id": "LcT6EGfBeS1Z",
        "outputId": "278f8cdd-78ea-4ba9-f654-755617a1a4a2"
      },
      "execution_count": 14,
      "outputs": [
        {
          "output_type": "stream",
          "name": "stdout",
          "text": [
            "24\n"
          ]
        }
      ]
    },
    {
      "cell_type": "code",
      "source": [
        "# question 14\n",
        "\n",
        "def my_function(x):\n",
        "  reversed_string = \"\"\n",
        "  for i in range(len(x)-1, -1, -1):\n",
        "    reversed_string += x[i]\n",
        "  return reversed_string\n",
        "\n",
        "x = 'I can do it'\n",
        "assert my_function(x) ==\"ti od nac I\"\n",
        "\n",
        "x = 'apricot'\n",
        "print(my_function(x))"
      ],
      "metadata": {
        "colab": {
          "base_uri": "https://localhost:8080/"
        },
        "id": "uUeZwoAlekGL",
        "outputId": "26d7371a-01a4-4449-b71e-e2d2b03078fa"
      },
      "execution_count": 16,
      "outputs": [
        {
          "output_type": "stream",
          "name": "stdout",
          "text": [
            "tocirpa\n"
          ]
        }
      ]
    },
    {
      "cell_type": "code",
      "source": [
        "# question 15\n",
        "\n",
        "def function_helper ( x ) :\n",
        "  return 'T' if x > 0 else 'N'\n",
        "\n",
        "def my_function ( data ) :\n",
        "  res = [ function_helper ( x ) for x in data ]\n",
        "  return res\n",
        "\n",
        "data = [10 , 0 , -10 , -1]\n",
        "assert my_function ( data ) == ['T', 'N', 'N', 'N']\n",
        "data = [2 , 3 , 5 , -1]\n",
        "print ( my_function ( data ) )"
      ],
      "metadata": {
        "colab": {
          "base_uri": "https://localhost:8080/"
        },
        "id": "INUUyrkde6MI",
        "outputId": "bad276ab-4188-42cb-d39a-807ff49a380c"
      },
      "execution_count": 2,
      "outputs": [
        {
          "output_type": "stream",
          "name": "stdout",
          "text": [
            "['T', 'T', 'T', 'N']\n"
          ]
        }
      ]
    },
    {
      "cell_type": "code",
      "source": [
        "# question 16\n",
        "\n",
        "def function_helper(x, data):\n",
        "  for i in data:\n",
        "    if i == x:\n",
        "      return 0\n",
        "  return 1\n",
        "\n",
        "def my_function(data):\n",
        "  res = []\n",
        "  for i in data:\n",
        "    if function_helper(i, res):\n",
        "      res.append(i)\n",
        "\n",
        "  return res\n",
        "\n",
        "lst = [10, 10, 9, 7, 7]\n",
        "assert my_function(lst) == [10, 9, 7]\n",
        "\n",
        "lst = [9, 9, 8, 1, 1]\n",
        "print(my_function(lst))"
      ],
      "metadata": {
        "colab": {
          "base_uri": "https://localhost:8080/"
        },
        "id": "J1S1MUdlW8Qi",
        "outputId": "3442dd6e-3e6a-4dab-d63d-921fe1fdcf8b"
      },
      "execution_count": 4,
      "outputs": [
        {
          "output_type": "stream",
          "name": "stdout",
          "text": [
            "[9, 8, 1]\n"
          ]
        }
      ]
    }
  ]
}