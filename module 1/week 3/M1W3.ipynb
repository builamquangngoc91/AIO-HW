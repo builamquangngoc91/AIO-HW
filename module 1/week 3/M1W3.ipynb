{
  "nbformat": 4,
  "nbformat_minor": 0,
  "metadata": {
    "colab": {
      "provenance": [],
      "authorship_tag": "ABX9TyMmXmZJ32SlwtWXdKOg3iUE",
      "include_colab_link": true
    },
    "kernelspec": {
      "name": "python3",
      "display_name": "Python 3"
    },
    "language_info": {
      "name": "python"
    }
  },
  "cells": [
    {
      "cell_type": "markdown",
      "metadata": {
        "id": "view-in-github",
        "colab_type": "text"
      },
      "source": [
        "<a href=\"https://colab.research.google.com/github/builamquangngoc91/AIO-HW/blob/main/M1W3.ipynb\" target=\"_parent\"><img src=\"https://colab.research.google.com/assets/colab-badge.svg\" alt=\"Open In Colab\"/></a>"
      ]
    },
    {
      "cell_type": "code",
      "execution_count": 1,
      "metadata": {
        "colab": {
          "base_uri": "https://localhost:8080/"
        },
        "id": "Q26hpEd5mqXZ",
        "outputId": "8920c30b-caac-41fa-dd6f-35e1044dc58a"
      },
      "outputs": [
        {
          "output_type": "execute_result",
          "data": {
            "text/plain": [
              "tensor([1., 2., 3.])"
            ]
          },
          "metadata": {},
          "execution_count": 1
        }
      ],
      "source": [
        "# Example 1\n",
        "import torch\n",
        "import torch.nn as nn\n",
        "\n",
        "data = torch.Tensor([1, 2, 3])\n",
        "data"
      ]
    },
    {
      "cell_type": "code",
      "source": [
        "softmax_function = nn.Softmax(dim=0)\n",
        "output = softmax_function(data)\n",
        "output"
      ],
      "metadata": {
        "colab": {
          "base_uri": "https://localhost:8080/"
        },
        "id": "Q43YI5ZnnAFg",
        "outputId": "a854bc51-356c-46f1-cb5a-92b76c621990"
      },
      "execution_count": 2,
      "outputs": [
        {
          "output_type": "execute_result",
          "data": {
            "text/plain": [
              "tensor([0.0900, 0.2447, 0.6652])"
            ]
          },
          "metadata": {},
          "execution_count": 2
        }
      ]
    },
    {
      "cell_type": "code",
      "source": [
        "class MySoftmax(nn.Module):\n",
        "    def __init__(self):\n",
        "        super().__init__()\n",
        "\n",
        "    def forward(self, x):\n",
        "        x_exp = torch.exp(x)\n",
        "        total = x_exp.sum(0, keepdims=True)\n",
        "        return x_exp / total\n",
        "\n",
        "my_softmax = MySoftmax()\n",
        "output = my_softmax(data)\n",
        "output"
      ],
      "metadata": {
        "colab": {
          "base_uri": "https://localhost:8080/"
        },
        "id": "0nqrTymanUgS",
        "outputId": "d4b4b46e-d94c-46ef-b29e-0f68804a5f75"
      },
      "execution_count": 3,
      "outputs": [
        {
          "output_type": "execute_result",
          "data": {
            "text/plain": [
              "tensor([0.0900, 0.2447, 0.6652])"
            ]
          },
          "metadata": {},
          "execution_count": 3
        }
      ]
    },
    {
      "cell_type": "code",
      "source": [
        "data = torch.Tensor([1, 2, 30000000])\n",
        "data"
      ],
      "metadata": {
        "id": "Z6H6Svp9nbrG"
      },
      "execution_count": 111,
      "outputs": []
    },
    {
      "cell_type": "code",
      "source": [
        "my_softmax = MySoftmax()\n",
        "output = my_softmax(data)\n",
        "output"
      ],
      "metadata": {
        "colab": {
          "base_uri": "https://localhost:8080/"
        },
        "id": "yYe0v64MnhAL",
        "outputId": "7d93ebaf-f079-4a8f-9dc9-41c48cdfbf27"
      },
      "execution_count": 5,
      "outputs": [
        {
          "output_type": "execute_result",
          "data": {
            "text/plain": [
              "tensor([0., 0., nan])"
            ]
          },
          "metadata": {},
          "execution_count": 5
        }
      ]
    },
    {
      "cell_type": "code",
      "source": [
        "class StableSoftmax(nn.Module):\n",
        "    def __init__(self):\n",
        "        super().__init__()\n",
        "\n",
        "    def forward(self, x):\n",
        "        c = torch.max(x, dim=0)\n",
        "        x_exp = torch.exp(x - c.values)\n",
        "        total = x_exp.sum(0, keepdims=True)\n",
        "        return x_exp / total\n",
        "\n",
        "stable_softmax = StableSoftmax()\n",
        "output = stable_softmax(data)\n",
        "output"
      ],
      "metadata": {
        "colab": {
          "base_uri": "https://localhost:8080/"
        },
        "id": "fTjwtV6Znvnn",
        "outputId": "96b24857-8dc3-4038-8fc1-d153bd21ad98"
      },
      "execution_count": 16,
      "outputs": [
        {
          "output_type": "execute_result",
          "data": {
            "text/plain": [
              "tensor([0., 0., 1.])"
            ]
          },
          "metadata": {},
          "execution_count": 16
        }
      ]
    },
    {
      "cell_type": "code",
      "source": [
        "# example 2:\n",
        "\n",
        "from abc import ABC, abstractmethod\n",
        "\n",
        "class Person(ABC):\n",
        "    def __init__(self, name, yob):\n",
        "        self._name = name\n",
        "        self._yob = yob\n",
        "\n",
        "    @abstractmethod\n",
        "    def describe(self):\n",
        "        pass\n",
        "\n",
        "    def get_yob(self):\n",
        "        return self._yob\n",
        "\n",
        "class Student(Person):\n",
        "    def __init__(self, name, yob, grade):\n",
        "        super().__init__(name=name, yob=yob)\n",
        "        self.__grade = grade\n",
        "\n",
        "    def describe(self):\n",
        "        print(f\"Student - Name: {self._name}, YoB: {self._yob}, Grade: {self.__grade}\")\n",
        "\n",
        "class Doctor(Person):\n",
        "    def __init__(self, name, yob, specialist):\n",
        "        super().__init__(name=name, yob=yob)\n",
        "        self.__specialist = specialist\n",
        "\n",
        "    def describe(self):\n",
        "        print(f\"Doctor - Name: {self._name}, YoB: {self._yob}, Specialist: {self.__specialist}\")\n",
        "\n",
        "class Teacher(Person):\n",
        "    def __init__(self, name, yob, subject):\n",
        "        super().__init__(name=name, yob=yob)\n",
        "        self.__subject = subject\n",
        "\n",
        "    def describe(self):\n",
        "        print(f\"Teacher - Name: {self._name}, YoB: {self._yob}, Specialist: {self.__subject}\")"
      ],
      "metadata": {
        "id": "Mo5K3JBGoBYJ"
      },
      "execution_count": 77,
      "outputs": []
    },
    {
      "cell_type": "code",
      "source": [
        "student1 = Student(name=\"John\", yob=2000, grade=\"A\")\n",
        "student1.describe()"
      ],
      "metadata": {
        "colab": {
          "base_uri": "https://localhost:8080/"
        },
        "id": "GLaiALvhtZhh",
        "outputId": "b75b97c6-cf7b-479e-ff04-6e2dc05d7cbf"
      },
      "execution_count": 78,
      "outputs": [
        {
          "output_type": "stream",
          "name": "stdout",
          "text": [
            "Student - Name: John, YoB: 2000, Grade: A\n"
          ]
        }
      ]
    },
    {
      "cell_type": "code",
      "source": [
        "doctor1 = Doctor(name=\"John\", yob=2000, specialist=\"Neurology\")\n",
        "doctor1.describe()"
      ],
      "metadata": {
        "colab": {
          "base_uri": "https://localhost:8080/"
        },
        "id": "lGnws9BptjOe",
        "outputId": "d1c26f54-fe5f-4f7b-8d55-ed4308df991e"
      },
      "execution_count": 79,
      "outputs": [
        {
          "output_type": "stream",
          "name": "stdout",
          "text": [
            "Doctor - Name: John, YoB: 2000, Specialist: Neurology\n"
          ]
        }
      ]
    },
    {
      "cell_type": "code",
      "source": [
        "teacher1 = Teacher(name=\"John\", yob=2000, subject=\"Mathematics\")\n",
        "teacher1.describe()"
      ],
      "metadata": {
        "colab": {
          "base_uri": "https://localhost:8080/"
        },
        "id": "gBhlhxfLt8Cd",
        "outputId": "8b9db0e0-8578-452a-8f41-4082d4b681b7"
      },
      "execution_count": 80,
      "outputs": [
        {
          "output_type": "stream",
          "name": "stdout",
          "text": [
            "Teacher - Name: John, YoB: 2000, Specialist: Mathematics\n"
          ]
        }
      ]
    },
    {
      "cell_type": "code",
      "source": [
        "class Ward:\n",
        "    def __init__(self, name):\n",
        "        self.__name = name\n",
        "        self.__list_people = list()\n",
        "\n",
        "    def add_person(self, person: Person):\n",
        "        self.__list_people.append(person)\n",
        "\n",
        "    def describe(self):\n",
        "        print(f\"Name: {self.__name}\")\n",
        "        for p in self.__list_people:\n",
        "            p.describe()\n",
        "\n",
        "    def count_doctor(self):\n",
        "        counter = 0\n",
        "        for p in self.__list_people:\n",
        "            if isinstance(p, Doctor):\n",
        "                counter += 1\n",
        "        return counter\n",
        "\n",
        "    def sort_yob(self):\n",
        "        self.__list_people.sort(key=lambda x: x.get_yob(), reverse=True)\n",
        "\n",
        "    def compute_average(self):\n",
        "        total = 0\n",
        "        counter = 0\n",
        "        for p in self.__list_people:\n",
        "            if isinstance(p, Teacher):\n",
        "              total += p.get_yob()\n",
        "              counter += 1\n",
        "        return total / counter"
      ],
      "metadata": {
        "id": "uROTqCzrud7d"
      },
      "execution_count": 87,
      "outputs": []
    },
    {
      "cell_type": "code",
      "source": [
        "ward1 = Ward(\"Ward1\")\n",
        "ward1.add_person(student1)\n",
        "ward1.add_person(doctor1)\n",
        "ward1.describe()"
      ],
      "metadata": {
        "colab": {
          "base_uri": "https://localhost:8080/"
        },
        "id": "HRGkni8Fux_u",
        "outputId": "ce860fb6-e5e2-47f4-afa3-91fe3823b823"
      },
      "execution_count": 88,
      "outputs": [
        {
          "output_type": "stream",
          "name": "stdout",
          "text": [
            "Name: Ward1\n",
            "Student - Name: John, YoB: 2000, Grade: A\n",
            "Doctor - Name: John, YoB: 2000, Specialist: Neurology\n"
          ]
        }
      ]
    },
    {
      "cell_type": "code",
      "source": [
        "ward1.count_doctor()"
      ],
      "metadata": {
        "colab": {
          "base_uri": "https://localhost:8080/"
        },
        "id": "-ou2xbW7u2oh",
        "outputId": "b706701c-7886-4e63-d25d-1f83a7a08118"
      },
      "execution_count": 89,
      "outputs": [
        {
          "output_type": "execute_result",
          "data": {
            "text/plain": [
              "1"
            ]
          },
          "metadata": {},
          "execution_count": 89
        }
      ]
    },
    {
      "cell_type": "code",
      "source": [
        "ward1.sort_yob()"
      ],
      "metadata": {
        "id": "n5Yu1l1lu7uO"
      },
      "execution_count": 90,
      "outputs": []
    },
    {
      "cell_type": "code",
      "source": [
        "ward1.describe()"
      ],
      "metadata": {
        "colab": {
          "base_uri": "https://localhost:8080/"
        },
        "id": "8cvsPbHTLCQs",
        "outputId": "bd9550e4-3c8f-464a-a304-322a395f1ab5"
      },
      "execution_count": 91,
      "outputs": [
        {
          "output_type": "stream",
          "name": "stdout",
          "text": [
            "Name: Ward1\n",
            "Student - Name: John, YoB: 2000, Grade: A\n",
            "Doctor - Name: John, YoB: 2000, Specialist: Neurology\n"
          ]
        }
      ]
    },
    {
      "cell_type": "code",
      "source": [
        "ward1.compute_average()"
      ],
      "metadata": {
        "colab": {
          "base_uri": "https://localhost:8080/"
        },
        "id": "c5a5QLSkLY7H",
        "outputId": "9cb7ae60-251f-4369-bac0-4dbcef8dc500"
      },
      "execution_count": 92,
      "outputs": [
        {
          "output_type": "execute_result",
          "data": {
            "text/plain": [
              "0.0"
            ]
          },
          "metadata": {},
          "execution_count": 92
        }
      ]
    },
    {
      "cell_type": "code",
      "source": [
        "# Example 3\n",
        "\n",
        "class MyStack:\n",
        "  def __init__(self, capacity):\n",
        "    self.capacity = capacity\n",
        "    self.__stack = []\n",
        "\n",
        "  def is_empty(self):\n",
        "    return len(self.__stack) == 0\n",
        "\n",
        "  def is_full(self):\n",
        "    return len(self.__stack) == self.capacity\n",
        "\n",
        "  def push(self, value):\n",
        "    if self.is_full():\n",
        "      raise Exception('Overflow')\n",
        "    self.__stack.append(value)\n",
        "\n",
        "  def pop(self):\n",
        "    if self.is_empty():\n",
        "      raise Exception('Underflow')\n",
        "    self.__stack.pop()\n",
        "\n",
        "  def top(self):\n",
        "    if self.is_empty():\n",
        "      raise Exception('Underflow')\n",
        "    return self.__stack[-1]\n",
        "\n",
        "  def size(self):\n",
        "    return len(self.__stack)\n",
        ""
      ],
      "metadata": {
        "id": "Dl3wVTZCMgIO"
      },
      "execution_count": 96,
      "outputs": []
    },
    {
      "cell_type": "code",
      "source": [
        "my_stack = MyStack(4)\n",
        "print(my_stack.is_empty())\n",
        "my_stack.push(5)\n",
        "print(my_stack.is_empty())\n",
        "print(my_stack.top())\n",
        "print(my_stack.is_full())\n",
        "print(my_stack.pop())\n",
        "print(my_stack.is_empty())"
      ],
      "metadata": {
        "colab": {
          "base_uri": "https://localhost:8080/"
        },
        "id": "T0aqOzfMNPiV",
        "outputId": "0712aa63-77f7-4cf8-fb1e-784857b93f85"
      },
      "execution_count": 100,
      "outputs": [
        {
          "output_type": "stream",
          "name": "stdout",
          "text": [
            "True\n",
            "False\n",
            "5\n",
            "False\n",
            "None\n",
            "True\n"
          ]
        }
      ]
    },
    {
      "cell_type": "code",
      "source": [
        "# Example 4\n",
        "\n",
        "class MyQueue:\n",
        "  def __init__(self, capacity):\n",
        "    self.capacity = capacity\n",
        "    self.__queue = []\n",
        "\n",
        "  def is_empty(self):\n",
        "    return len(self.__queue) == 0\n",
        "\n",
        "  def is_full(self):\n",
        "    return len(self.__queue) == self.capacity\n",
        "\n",
        "  def enqueue(self, value):\n",
        "    if self.is_full():\n",
        "      raise Exception('Overflow')\n",
        "    self.__queue.append(value)\n",
        "\n",
        "  def dequeue(self):\n",
        "    if self.is_empty():\n",
        "      raise Exception('Underflow')\n",
        "    self.__queue.pop(0)\n",
        "\n",
        "  def front(self):\n",
        "    if self.is_empty():\n",
        "      raise Exception('Queue is empty')\n",
        "    return self.__queue[0]\n",
        "\n",
        "  def size(self):\n",
        "    return len(self.__queue)"
      ],
      "metadata": {
        "id": "QxQi2Q8UN3yZ"
      },
      "execution_count": 101,
      "outputs": []
    },
    {
      "cell_type": "code",
      "source": [
        "my_queue = MyQueue(5)\n",
        "print(my_queue.is_empty())\n",
        "print(my_queue.is_full())\n",
        "print(my_queue.enqueue(5))\n",
        "print(my_queue.enqueue(4))\n",
        "print(my_queue.enqueue(4))\n",
        "print(my_queue.enqueue(5))\n",
        "print(my_queue.front())\n",
        "print(my_queue.is_empty())\n",
        "print(my_queue.is_full())\n"
      ],
      "metadata": {
        "colab": {
          "base_uri": "https://localhost:8080/"
        },
        "id": "BfwB6CbtOJj-",
        "outputId": "076cb4c8-4925-4a1f-cc44-2d7ad8a43599"
      },
      "execution_count": 107,
      "outputs": [
        {
          "output_type": "stream",
          "name": "stdout",
          "text": [
            "True\n",
            "False\n",
            "None\n",
            "None\n",
            "None\n",
            "None\n",
            "5\n",
            "False\n",
            "False\n"
          ]
        }
      ]
    },
    {
      "cell_type": "code",
      "source": [
        "# question 1\n",
        "import torch\n",
        "import torch.nn as nn\n",
        "\n",
        "data = torch.Tensor([1, 2, 3])\n",
        "softmax_function = nn.Softmax(dim=0)\n",
        "output = softmax_function(data)\n",
        "assert round(output[0].item(), 2) == 0.09\n",
        "output"
      ],
      "metadata": {
        "colab": {
          "base_uri": "https://localhost:8080/"
        },
        "id": "WBw1T4IEPOU0",
        "outputId": "3d026026-e0aa-4aec-f31d-95a1c10c1342"
      },
      "execution_count": 108,
      "outputs": [
        {
          "output_type": "execute_result",
          "data": {
            "text/plain": [
              "tensor([0.0900, 0.2447, 0.6652])"
            ]
          },
          "metadata": {},
          "execution_count": 108
        }
      ]
    },
    {
      "cell_type": "code",
      "source": [
        "# question 2\n",
        "\n",
        "import torch\n",
        "import torch.nn as nn\n",
        "\n",
        "class MySoftmax(nn.Module):\n",
        "    def __init__(self):\n",
        "        super().__init__()\n",
        "\n",
        "    def forward(self, x):\n",
        "        ### Your Code Here ###\n",
        "        x_exp = torch.exp(x)\n",
        "        total = x_exp.sum(0, keepdims=True)\n",
        "        return x_exp / total\n",
        "        ### End Code Here ###\n",
        "\n",
        "data = torch.Tensor([5, 2, 4])\n",
        "my_softmax = MySoftmax()\n",
        "output = my_softmax(data)\n",
        "assert round(output[-1].item(), 2) == 0.26\n",
        "output"
      ],
      "metadata": {
        "colab": {
          "base_uri": "https://localhost:8080/"
        },
        "id": "CgJZ5kO_P0W2",
        "outputId": "0449b653-ceb7-422d-b142-eca5ac5a3902"
      },
      "execution_count": 109,
      "outputs": [
        {
          "output_type": "execute_result",
          "data": {
            "text/plain": [
              "tensor([0.7054, 0.0351, 0.2595])"
            ]
          },
          "metadata": {},
          "execution_count": 109
        }
      ]
    },
    {
      "cell_type": "code",
      "source": [
        "# question 3\n",
        "import torch\n",
        "import torch.nn as nn\n",
        "\n",
        "class MySoftmax(nn.Module):\n",
        "    def __init__(self):\n",
        "        super().__init__()\n",
        "\n",
        "    def forward(self, x):\n",
        "        ### Your Code Here ###\n",
        "        x_exp = torch.exp(x)\n",
        "        total = x_exp.sum(0, keepdims=True)\n",
        "        return x_exp / total\n",
        "        ### End Code Here ###\n",
        "\n",
        "data = torch.Tensor([1, 2, 300000000])\n",
        "my_softmax = MySoftmax()\n",
        "output = my_softmax(data)\n",
        "assert round(output[0].item(), 2) == 0.0\n",
        "output"
      ],
      "metadata": {
        "colab": {
          "base_uri": "https://localhost:8080/"
        },
        "id": "l1zF84pKQCyk",
        "outputId": "43833288-b75c-4d3b-99c6-0b16b0f5e734"
      },
      "execution_count": 110,
      "outputs": [
        {
          "output_type": "execute_result",
          "data": {
            "text/plain": [
              "tensor([0., 0., nan])"
            ]
          },
          "metadata": {},
          "execution_count": 110
        }
      ]
    },
    {
      "cell_type": "code",
      "source": [
        "# question 4\n",
        "\n",
        "import torch\n",
        "import torch.nn as nn\n",
        "\n",
        "class SoftmaxStable(nn.Module):\n",
        "    def __init__(self):\n",
        "        super().__init__()\n",
        "\n",
        "    def forward(self, x):\n",
        "        x_max = torch.max(x, dim=0, keepdims=True)\n",
        "        x_exp = torch.exp(x - x_max.values)\n",
        "        partition = x_exp.sum(0, keepdims=True)\n",
        "        return x_exp / partition\n",
        "\n",
        "data = torch.Tensor([1, 2, 3])\n",
        "softmax_stable = SoftmaxStable()\n",
        "output = softmax_stable(data)\n",
        "assert round(output[-1].item(), 2) == 0.67\n",
        "output"
      ],
      "metadata": {
        "colab": {
          "base_uri": "https://localhost:8080/"
        },
        "id": "yyH5E4AbbP-l",
        "outputId": "95e99229-8cb1-4082-805a-2b4d84d0a004"
      },
      "execution_count": 112,
      "outputs": [
        {
          "output_type": "execute_result",
          "data": {
            "text/plain": [
              "tensor([0.0900, 0.2447, 0.6652])"
            ]
          },
          "metadata": {},
          "execution_count": 112
        }
      ]
    },
    {
      "cell_type": "code",
      "source": [
        "# question 5\n",
        "\n",
        "from abc import ABC, abstractmethod\n",
        "\n",
        "class Person(ABC):\n",
        "    def __init__(self, name: str, yob: int):\n",
        "        self._name = name\n",
        "        self._yob = yob\n",
        "\n",
        "    def get_yob(self):\n",
        "        return self._yob\n",
        "\n",
        "    @abstractmethod\n",
        "    def describe(self):\n",
        "        pass\n",
        "\n",
        "class Student(Person):\n",
        "    def __init__(self, name: str, yob: int, grade: str):\n",
        "        super().__init__(name, yob)\n",
        "        self.grade = grade\n",
        "\n",
        "    def describe(self):\n",
        "        return f\"Student - Name: {self._name} - YoB: {self._yob} - Grade: {self.grade}\"\n",
        "\n",
        "student1 = Student(name=\"studentZ2023\", yob=2011, grade=\"6\")\n",
        "assert student1._yob == 2011\n",
        "print(student1.describe())"
      ],
      "metadata": {
        "colab": {
          "base_uri": "https://localhost:8080/"
        },
        "id": "4aDjgEAWc8jN",
        "outputId": "c8670fcd-5ffd-40cf-e7b6-0d8cfd9ad6c9"
      },
      "execution_count": 115,
      "outputs": [
        {
          "output_type": "stream",
          "name": "stdout",
          "text": [
            "Student - Name: studentZ2023 - YoB: 2011 - Grade: 6\n"
          ]
        }
      ]
    },
    {
      "cell_type": "code",
      "source": [
        "# question 6\n",
        "\n",
        "from abc import ABC, abstractmethod\n",
        "\n",
        "class Person(ABC):\n",
        "    def __init__(self, name: str, yob: int):\n",
        "        self._name = name\n",
        "        self._yob = yob\n",
        "\n",
        "    def get_yob(self):\n",
        "        return self._yob\n",
        "\n",
        "    @abstractmethod\n",
        "    def describe(self):\n",
        "        pass\n",
        "\n",
        "class Teacher(Person):\n",
        "    def __init__(self, name: str, yob: int, subject: str):\n",
        "        super().__init__(name, yob)\n",
        "        self.subject = subject\n",
        "\n",
        "    def describe(self):\n",
        "        return f\"Teacher - Name: {self._name} - YoB: {self._yob} - Subject: {self.subject}\"\n",
        "\n",
        "teacher1 = Teacher(name=\"teacherZ2023\", yob=1991, subject=\"History\")\n",
        "assert teacher1._yob == 1991\n",
        "print(teacher1.describe())"
      ],
      "metadata": {
        "colab": {
          "base_uri": "https://localhost:8080/"
        },
        "id": "7N-2kxEvi3Kt",
        "outputId": "0ceb5a0e-9262-44d8-f7aa-3961c3d9d217"
      },
      "execution_count": 117,
      "outputs": [
        {
          "output_type": "stream",
          "name": "stdout",
          "text": [
            "Teacher - Name: teacherZ2023 - YoB: 1991 - Subject: History\n"
          ]
        }
      ]
    },
    {
      "cell_type": "code",
      "source": [
        "# question 7\n",
        "\n",
        "from abc import ABC, abstractmethod\n",
        "\n",
        "class Person(ABC):\n",
        "    def __init__(self, name: str, yob: int):\n",
        "        self._name = name\n",
        "        self._yob = yob\n",
        "\n",
        "    def get_yob(self):\n",
        "        return self._yob\n",
        "\n",
        "    @abstractmethod\n",
        "    def describe(self):\n",
        "        pass\n",
        "\n",
        "class Doctor(Person):\n",
        "    def __init__(self, name: str, yob: int, specialist: str):\n",
        "        super().__init__(name, yob)\n",
        "        self.specialist = specialist\n",
        "\n",
        "    def describe(self):\n",
        "        return f\"Doctor - Name: {self._name}, YoB: {self._yob}, Specialist: {self.specialist}\"\n",
        "\n",
        "doctor1 = Doctor(name=\"doctorZ2023\", yob=1981, specialist=\"Endocrinologists\")\n",
        "assert doctor1._yob == 1981\n",
        "print(doctor1.describe())"
      ],
      "metadata": {
        "colab": {
          "base_uri": "https://localhost:8080/"
        },
        "id": "JZoRvNn-k5lq",
        "outputId": "9c896980-80e4-49ea-b3df-6539eb079180"
      },
      "execution_count": 118,
      "outputs": [
        {
          "output_type": "stream",
          "name": "stdout",
          "text": [
            "Doctor - Name: doctorZ2023, YoB: 1981, Specialist: Endocrinologists\n"
          ]
        }
      ]
    },
    {
      "cell_type": "code",
      "source": [
        "# question 8\n",
        "\n",
        "class Ward:\n",
        "    def __init__(self, name: str):\n",
        "        self._name = name\n",
        "        self._listPeople = list()\n",
        "\n",
        "    def add_person(self, person: Person):\n",
        "        self._listPeople.append(person)\n",
        "\n",
        "    def describe(self):\n",
        "        print(f\"Ward Name: {self._name}\")\n",
        "        for p in self._listPeople:\n",
        "            p.describe()\n",
        "\n",
        "    def count_doctor(self):\n",
        "        count = 0\n",
        "        for p in self._listPeople:\n",
        "            if isinstance(p, Doctor):\n",
        "                count += 1\n",
        "        return count\n",
        "\n",
        "student1 = Student(name=\"studentA\", yob=2010, grade=\"7\")\n",
        "teacher1 = Teacher(name=\"teacherA\", yob=1969, subject=\"Math\")\n",
        "teacher2 = Teacher(name=\"teacherB\", yob=1995, subject=\"History\")\n",
        "doctor1 = Doctor(name=\"doctorA\", yob=1945, specialist=\"Endocrinologists\")\n",
        "doctor2 = Doctor(name=\"doctorB\", yob=1975, specialist=\"Cardiologists\")\n",
        "\n",
        "ward1 = Ward(name=\"Ward1\")\n",
        "ward1.add_person(student1)\n",
        "ward1.add_person(teacher1)\n",
        "ward1.add_person(teacher2)\n",
        "ward1.add_person(doctor1)\n",
        "ward1.add_person(doctor2)\n",
        "print(ward1.count_doctor())"
      ],
      "metadata": {
        "colab": {
          "base_uri": "https://localhost:8080/"
        },
        "id": "vzGaUhDEl8hn",
        "outputId": "93d5f2a5-814a-41c5-bdcc-220fabf3a361"
      },
      "execution_count": 120,
      "outputs": [
        {
          "output_type": "stream",
          "name": "stdout",
          "text": [
            "2\n"
          ]
        }
      ]
    },
    {
      "cell_type": "code",
      "source": [
        "# question 9\n",
        "\n",
        "class MyStack:\n",
        "    def __init__(self, capacity):\n",
        "        self._capacity = capacity\n",
        "        self._stack = []\n",
        "\n",
        "    def is_full(self):\n",
        "        return len(self._stack) == self._capacity\n",
        "\n",
        "    def push(self, value):\n",
        "        if not self.is_full():\n",
        "            self._stack.append(value)\n",
        "        else:\n",
        "            raise Exception(\"Stack is full\")\n",
        "\n",
        "stack1 = MyStack(capacity=5)\n",
        "stack1.push(1)\n",
        "\n",
        "assert stack1.is_full() == False\n",
        "stack1.push(2)\n",
        "print(stack1.is_full())"
      ],
      "metadata": {
        "colab": {
          "base_uri": "https://localhost:8080/"
        },
        "id": "qBJNx-yKnO0t",
        "outputId": "43ef13c0-20ac-4f28-bc04-19e41575ac3e"
      },
      "execution_count": 121,
      "outputs": [
        {
          "output_type": "stream",
          "name": "stdout",
          "text": [
            "False\n"
          ]
        }
      ]
    },
    {
      "cell_type": "code",
      "source": [
        "# question 10\n",
        "\n",
        "class MyStack:\n",
        "    def __init__(self, capacity):\n",
        "        self._capacity = capacity\n",
        "        self._stack = []\n",
        "\n",
        "    def is_full(self):\n",
        "        return len(self._stack) == self._capacity\n",
        "\n",
        "    def push(self, value):\n",
        "        if not self.is_full():\n",
        "            self._stack.append(value)\n",
        "        else:\n",
        "            raise Exception(\"Stack is full\")\n",
        "\n",
        "    def top(self):\n",
        "        if self._stack:\n",
        "            return self._stack[-1]\n",
        "        else:\n",
        "            raise Exception(\"Stack is empty\")\n",
        "\n",
        "stack1 = MyStack(capacity=5)\n",
        "stack1.push(1)\n",
        "assert stack1.is_full() == False\n",
        "stack1.push(2)\n",
        "print(stack1.top())"
      ],
      "metadata": {
        "colab": {
          "base_uri": "https://localhost:8080/"
        },
        "id": "8qT9ZR_ontr9",
        "outputId": "4634c05f-9f2f-4bef-b82b-166865f56b32"
      },
      "execution_count": 122,
      "outputs": [
        {
          "output_type": "stream",
          "name": "stdout",
          "text": [
            "2\n"
          ]
        }
      ]
    },
    {
      "cell_type": "code",
      "source": [
        "# question 11\n",
        "\n",
        "class MyQueue:\n",
        "    def __init__(self, capacity):\n",
        "        self._capacity = capacity\n",
        "        self._queue = []\n",
        "\n",
        "    def is_full(self):\n",
        "        return len(self._queue) == self._capacity\n",
        "\n",
        "    def enqueue(self, value):\n",
        "        if not self.is_full():\n",
        "            self._queue.append(value)\n",
        "        else:\n",
        "            raise Exception(\"Queue is full\")\n",
        "\n",
        "queue1 = MyQueue(capacity=5)\n",
        "queue1.enqueue(1)\n",
        "assert queue1.is_full() == False\n",
        "queue1.enqueue(2)\n",
        "print(queue1.is_full())"
      ],
      "metadata": {
        "colab": {
          "base_uri": "https://localhost:8080/"
        },
        "id": "Wi2rDUiJn8FG",
        "outputId": "00a4d50f-1ff4-42ed-96a1-dd573454e45d"
      },
      "execution_count": 123,
      "outputs": [
        {
          "output_type": "stream",
          "name": "stdout",
          "text": [
            "False\n"
          ]
        }
      ]
    },
    {
      "cell_type": "code",
      "source": [
        "# question 12\n",
        "\n",
        "class MyQueue:\n",
        "    def __init__(self, capacity):\n",
        "        self._capacity = capacity\n",
        "        self._queue = []\n",
        "\n",
        "    def isEmpty(self):\n",
        "        return len(self._queue) == 0\n",
        "\n",
        "    def is_full(self):\n",
        "        return len(self._queue) == self._capacity\n",
        "\n",
        "    def dequeue(self):\n",
        "        if not self.isEmpty():\n",
        "            return self._queue.pop(0)\n",
        "        else:\n",
        "            raise Exception(\"Queue is empty\")\n",
        "\n",
        "    def enqueue(self, value):\n",
        "        if not self.is_full():\n",
        "            self._queue.append(value)\n",
        "        else:\n",
        "            raise Exception(\"Queue is full\")\n",
        "\n",
        "    def front(self):\n",
        "        if not self.isEmpty():\n",
        "            return self._queue[0]\n",
        "        else:\n",
        "            raise Exception(\"Queue is empty\")\n",
        "\n",
        "queue1 = MyQueue(capacity=5)\n",
        "queue1.enqueue(1)\n",
        "assert queue1.is_full() == False\n",
        "queue1.enqueue(2)\n",
        "print(queue1.front())"
      ],
      "metadata": {
        "colab": {
          "base_uri": "https://localhost:8080/"
        },
        "id": "6unXzADFofjh",
        "outputId": "a95c9050-bd59-4c44-e0b6-e99ee7976eca"
      },
      "execution_count": 124,
      "outputs": [
        {
          "output_type": "stream",
          "name": "stdout",
          "text": [
            "1\n"
          ]
        }
      ]
    }
  ]
}