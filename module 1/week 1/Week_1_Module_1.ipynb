{
  "nbformat": 4,
  "nbformat_minor": 0,
  "metadata": {
    "colab": {
      "provenance": [],
      "authorship_tag": "ABX9TyNYUDkeKtN5mG3G/OM/8xY5",
      "include_colab_link": true
    },
    "kernelspec": {
      "name": "python3",
      "display_name": "Python 3"
    },
    "language_info": {
      "name": "python"
    }
  },
  "cells": [
    {
      "cell_type": "markdown",
      "metadata": {
        "id": "view-in-github",
        "colab_type": "text"
      },
      "source": [
        "<a href=\"https://colab.research.google.com/github/builamquangngoc91/AIO-HW/blob/main/Week_1_Module_1.ipynb\" target=\"_parent\"><img src=\"https://colab.research.google.com/assets/colab-badge.svg\" alt=\"Open In Colab\"/></a>"
      ]
    },
    {
      "cell_type": "code",
      "execution_count": null,
      "metadata": {
        "id": "khnH0o5H94k3"
      },
      "outputs": [],
      "source": []
    },
    {
      "cell_type": "code",
      "source": [
        "def exercise1(tp, fp, fn):\n",
        "  if type(tp) != int:\n",
        "    print(\"tp must be int\")\n",
        "    return\n",
        "  if type(fp) != int:\n",
        "    print(\"fp must be int\")\n",
        "    return\n",
        "  if type(fn) != int:\n",
        "    print(\"fn must be int\")\n",
        "    return\n",
        "\n",
        "  if tp <= 0 or fp <= 0 or fn <= 0:\n",
        "    print(\"tp and fp and fn must be greater than zero\")\n",
        "    return\n",
        "\n",
        "  precision = tp / (tp + fp)\n",
        "  recall = tp / (tp + fn)\n",
        "  f1Score = 2 * (precision * recall) / (precision + recall)\n",
        "\n",
        "  print(f'precision is {precision}')\n",
        "  print(f'recall is {recall}')\n",
        "  print(f'f1-score is {f1Score}')\n",
        "\n",
        "exercise1(tp=2, fp=3, fn=4)\n",
        "exercise1(tp='a', fp=3, fn=4)"
      ],
      "metadata": {
        "colab": {
          "base_uri": "https://localhost:8080/"
        },
        "id": "JE2LMYLmCzIt",
        "outputId": "7535436b-d460-4c79-c32e-ff74be514229"
      },
      "execution_count": 4,
      "outputs": [
        {
          "output_type": "stream",
          "name": "stdout",
          "text": [
            "precision is 0.4\n",
            "recall is 0.3333333333333333\n",
            "f1-score is 0.3636363636363636\n",
            "tp must be int\n"
          ]
        }
      ]
    },
    {
      "cell_type": "code",
      "source": [
        "import math\n",
        "\n",
        "def is_number(n):\n",
        "  try:\n",
        "    float(n)\n",
        "  except ValueError:\n",
        "    return False\n",
        "  return True\n",
        "\n",
        "def exercise2():\n",
        "  inp = input(\"Input x = \")\n",
        "  if not is_number(inp):\n",
        "    print(f\"{inp} must be a number\")\n",
        "    return\n",
        "\n",
        "  inp = float(inp)\n",
        "\n",
        "  activationFunc = input(\"Input activation Function (sigmoid|relu|elu):\")\n",
        "\n",
        "  if activationFunc not in ('sigmoid', 'relu', 'elu'):\n",
        "    print(f\"{activationFunc} is not supportted\")\n",
        "    return\n",
        "\n",
        "  if activationFunc == 'sigmoid':\n",
        "    print(f'sigmoid: f({inp}) = {1 / (1 + math.exp(-inp))} ')\n",
        "  elif activationFunc == 'relu':\n",
        "    relu = 0 if inp <= 0 else inp\n",
        "    print(f'relu: f({inp}) = {relu}')\n",
        "  else:\n",
        "    elu = 0.01 * (math.exp(inp) - 1) if inp <= 0 else inp\n",
        "    print(f'elu: f({inp}) = {elu}')\n",
        "\n",
        "exercise2()\n",
        ""
      ],
      "metadata": {
        "colab": {
          "base_uri": "https://localhost:8080/"
        },
        "id": "2kZdV3Ez0OHI",
        "outputId": "8ac6f259-3937-46f7-94a3-5d1483ed1ccc"
      },
      "execution_count": 6,
      "outputs": [
        {
          "output_type": "stream",
          "name": "stdout",
          "text": [
            "Input x = 1.5\n",
            "Input activation Function (sigmoid|relu|elu):belu\n",
            "belu is not supportted\n"
          ]
        }
      ]
    },
    {
      "cell_type": "code",
      "source": [
        "import random\n",
        "import math\n",
        "\n",
        "def exercise3():\n",
        "  num_of_samples = input(\"Input number of samples (integer number) which are generated: \")\n",
        "  if not num_of_samples.isnumeric():\n",
        "    print(\"number of samples must be an integer number\")\n",
        "    return\n",
        "\n",
        "  num_of_samples = int(num_of_samples)\n",
        "  loss_name = input(\"Input loss name: \")\n",
        "\n",
        "  mae = 0\n",
        "  mse = 0\n",
        "  for i in range(num_of_samples):\n",
        "    predict = random.uniform(0, 10)\n",
        "    target = random.uniform(0, 10)\n",
        "    mae += abs(predict - target)\n",
        "    mse += pow(predict - target, 2)\n",
        "\n",
        "    loss = None\n",
        "    if loss_name == 'MAE':\n",
        "      loss = 1 / num_of_samples * mae\n",
        "    elif loss_name == 'MSE':\n",
        "      loss = 1 / num_of_samples * mse\n",
        "    else:\n",
        "      loss = math.sqrt(1 / num_of_samples * mse)\n",
        "\n",
        "    print(f'loss name: {loss_name}, sample: {i}, pred: {predict}, target: {target}, loss: {loss}')\n",
        "\n",
        "exercise3()\n"
      ],
      "metadata": {
        "colab": {
          "base_uri": "https://localhost:8080/"
        },
        "id": "fX1kBREb7vFz",
        "outputId": "3813438c-73c0-43c2-f969-7d2a69609536"
      },
      "execution_count": 11,
      "outputs": [
        {
          "output_type": "stream",
          "name": "stdout",
          "text": [
            "Input number of samples (integer number) which are generated: 5\n",
            "Input loss name: RMSE\n",
            "loss name: RMSE, sample: 0, pred: 4.642456743675391, target: 8.2595142680145, loss: 1.61759730058987\n",
            "loss name: RMSE, sample: 1, pred: 4.687869653603325, target: 0.6804815358538363, loss: 2.4142189072517004\n",
            "loss name: RMSE, sample: 2, pred: 6.07882873904921, target: 8.661732402683114, loss: 2.676327931934777\n",
            "loss name: RMSE, sample: 3, pred: 5.392682567188929, target: 5.037308732557806, loss: 2.6810425792445685\n",
            "loss name: RMSE, sample: 4, pred: 9.043110681850349, target: 7.819715537339965, loss: 2.736298311157737\n"
          ]
        }
      ]
    },
    {
      "cell_type": "code",
      "source": [
        "def approx_sin(x, n):\n",
        "  result = 0\n",
        "  for i in range(0, n + 1):\n",
        "    result += pow((-1), i) * pow(x, (2 * i + 1)) / math.factorial(2*i + 1)\n",
        "  return result\n",
        "\n",
        "def approx_cos(x, n):\n",
        "  result = 0\n",
        "  for i in range(0, n + 1):\n",
        "    result += pow((-1), i) * pow(x, (2 * i)) / math.factorial(2*i)\n",
        "  return result\n",
        "\n",
        "def approx_sinh(x, n):\n",
        "  result = 0\n",
        "  for i in range(0, n + 1):\n",
        "    result += pow(x, (2 * i + 1)) / math.factorial(2*i + 1)\n",
        "  return result\n",
        "\n",
        "def approx_cosh(x, n):\n",
        "  result = 0\n",
        "  for i in range(0, n + 1):\n",
        "    result += pow(x, (2 * i)) / math.factorial(2*i)\n",
        "  return result\n",
        "\n",
        "approx_sin(x=3.14, n=10)\n",
        "approx_cos(x=3.14, n=10)\n",
        "approx_sinh(x=3.14, n=10)\n",
        "approx_cosh(x=3.14, n=10)\n",
        "\n"
      ],
      "metadata": {
        "colab": {
          "base_uri": "https://localhost:8080/"
        },
        "id": "AhkKkyRm_nQs",
        "outputId": "ecf693ce-1815-4844-a3fd-ac0ad62b75d0"
      },
      "execution_count": 26,
      "outputs": [
        {
          "output_type": "execute_result",
          "data": {
            "text/plain": [
              "11.573574828234543"
            ]
          },
          "metadata": {},
          "execution_count": 26
        }
      ]
    },
    {
      "cell_type": "code",
      "source": [
        "def md_nre_single_sample(y, y_hat, n, p):\n",
        "  return pow(pow(y, 1/n) - pow(y_hat, 1/n), p)\n",
        "\n",
        "md_nre_single_sample(y=100, y_hat=99.5, n=2, p=1)"
      ],
      "metadata": {
        "colab": {
          "base_uri": "https://localhost:8080/"
        },
        "id": "zlbPW5-KH5QO",
        "outputId": "763a655f-38e7-43d4-dbd5-c8978eae831e"
      },
      "execution_count": 28,
      "outputs": [
        {
          "output_type": "execute_result",
          "data": {
            "text/plain": [
              "0.025031328369998107"
            ]
          },
          "metadata": {},
          "execution_count": 28
        }
      ]
    },
    {
      "cell_type": "code",
      "source": [
        "# question 1:\n",
        "import math\n",
        "def calc_f1_score(tp, fp, fn):\n",
        "  precision = tp / (tp + fp)\n",
        "  recall = tp / (tp + fn)\n",
        "  return 2 * (precision * recall) / (precision + recall)\n",
        "\n",
        "assert round(calc_f1_score(tp=2, fp=3, fn=5), 2) == 0.33\n",
        "print(round(calc_f1_score(tp=2, fp=4, fn=5), 2))"
      ],
      "metadata": {
        "colab": {
          "base_uri": "https://localhost:8080/"
        },
        "id": "Ebu1do2YLJZV",
        "outputId": "0d17f861-b70a-4a06-9219-e34f337da156"
      },
      "execution_count": 29,
      "outputs": [
        {
          "output_type": "stream",
          "name": "stdout",
          "text": [
            "0.31\n"
          ]
        }
      ]
    },
    {
      "cell_type": "code",
      "source": [
        "# question 2:\n",
        "import math\n",
        "def is_number(n):\n",
        "  return type(n) in (float, int)\n",
        "\n",
        "assert is_number (3) == 1.0\n",
        "assert is_number('-2a') == 0.0\n",
        "print(is_number(1))\n",
        "print(is_number('n'))"
      ],
      "metadata": {
        "colab": {
          "base_uri": "https://localhost:8080/"
        },
        "id": "lqNbgHayMGSI",
        "outputId": "9d109586-e7ae-4211-ad75-59b8c8dd0b5f"
      },
      "execution_count": 32,
      "outputs": [
        {
          "output_type": "stream",
          "name": "stdout",
          "text": [
            "True\n",
            "False\n"
          ]
        }
      ]
    },
    {
      "cell_type": "code",
      "source": [
        "# question 4:\n",
        "import math\n",
        "def calc_sig(x):\n",
        "  return 1 / (1 + math.exp(-x))\n",
        "\n",
        "assert round(calc_sig(3), 2)==0.95\n",
        "print(round(calc_sig(2), 2))"
      ],
      "metadata": {
        "colab": {
          "base_uri": "https://localhost:8080/"
        },
        "id": "fR36QjoRM5bs",
        "outputId": "1c0de72f-6d11-46db-be44-42df90ff5cfc"
      },
      "execution_count": 34,
      "outputs": [
        {
          "output_type": "stream",
          "name": "stdout",
          "text": [
            "0.88\n"
          ]
        }
      ]
    },
    {
      "cell_type": "code",
      "source": [
        "# question 5:\n",
        "import math\n",
        "def calc_elu(x):\n",
        "  return x if x > 0 else 0.01 * (math.exp(x) - 1)\n",
        "\n",
        "assert round(calc_elu(1)) == 1\n",
        "print(round(calc_elu(-1), 2))"
      ],
      "metadata": {
        "colab": {
          "base_uri": "https://localhost:8080/"
        },
        "id": "VezGaNnRNNCl",
        "outputId": "c5b917e0-ada3-40d8-972a-4fd1a3526e86"
      },
      "execution_count": 35,
      "outputs": [
        {
          "output_type": "stream",
          "name": "stdout",
          "text": [
            "-0.01\n"
          ]
        }
      ]
    },
    {
      "cell_type": "code",
      "source": [
        "# question 6:\n",
        "import math\n",
        "def calc_activation_func(x, act_name):\n",
        "  if act_name not in ('relu', 'elu', 'sigmoid'):\n",
        "    raise ValueError\n",
        "\n",
        "  if act_name == 'sigmoid':\n",
        "    return 1 / (1 + math.exp(-x))\n",
        "  elif act_name == 'relu':\n",
        "    return x if x > 0 else 0\n",
        "  else:\n",
        "    return x if x > 0 else 0.01*(math.exp(x) - 1)\n",
        "\n",
        "assert calc_activation_func(x = 1, act_name='relu') == 1\n",
        "print(round(calc_activation_func(x = 3, act_name='sigmoid'), 2))"
      ],
      "metadata": {
        "colab": {
          "base_uri": "https://localhost:8080/"
        },
        "id": "CLgnAn19NqZC",
        "outputId": "d685d2e1-d097-4274-b936-679834c4f807"
      },
      "execution_count": 36,
      "outputs": [
        {
          "output_type": "stream",
          "name": "stdout",
          "text": [
            "0.95\n"
          ]
        }
      ]
    },
    {
      "cell_type": "code",
      "source": [
        "# question 7:\n",
        "def calc_ae(y, y_hat):\n",
        "  return abs(y - y_hat)\n",
        "\n",
        "y=1\n",
        "y_hat = 6\n",
        "assert calc_ae(y, y_hat)==5\n",
        "y=2\n",
        "y_hat = 9\n",
        "print(calc_ae(y, y_hat))"
      ],
      "metadata": {
        "colab": {
          "base_uri": "https://localhost:8080/"
        },
        "id": "-b-k9bl-OsSO",
        "outputId": "ff49d88d-5dbf-4380-dee7-b66acd43ac91"
      },
      "execution_count": 38,
      "outputs": [
        {
          "output_type": "stream",
          "name": "stdout",
          "text": [
            "7\n"
          ]
        }
      ]
    },
    {
      "cell_type": "code",
      "source": [
        "# question 8:\n",
        "def calc_se(y, y_hat):\n",
        "  return pow(y - y_hat, 2)\n",
        "y=4\n",
        "y_hat = 2\n",
        "assert calc_se(y, y_hat) == 4\n",
        "print(calc_se(2, 1))"
      ],
      "metadata": {
        "colab": {
          "base_uri": "https://localhost:8080/"
        },
        "id": "SdAzgvNgO-Bu",
        "outputId": "bca72212-d366-42d4-f13e-30966eace203"
      },
      "execution_count": 39,
      "outputs": [
        {
          "output_type": "stream",
          "name": "stdout",
          "text": [
            "1\n"
          ]
        }
      ]
    },
    {
      "cell_type": "code",
      "source": [
        "# question 9\n",
        "def approx_cos(x, n):\n",
        "  result = 0\n",
        "  for i in range(0, n + 1):\n",
        "    result += pow((-1), i) * pow(x, (2 * i)) / math.factorial(2*i)\n",
        "  return result\n",
        "\n",
        "assert round(approx_cos(x=1, n=10), 2)==0.54\n",
        "print(round(approx_cos(x=3.14, n=10), 2))"
      ],
      "metadata": {
        "colab": {
          "base_uri": "https://localhost:8080/"
        },
        "id": "6GZBrM0ZPHrg",
        "outputId": "05d75d99-1cc1-48d0-daed-c0dd8ab0e8e7"
      },
      "execution_count": 40,
      "outputs": [
        {
          "output_type": "stream",
          "name": "stdout",
          "text": [
            "-1.0\n"
          ]
        }
      ]
    },
    {
      "cell_type": "code",
      "source": [
        "# question 10\n",
        "def approx_sin(x, n):\n",
        "  result = 0\n",
        "  for i in range(0, n + 1):\n",
        "    result += pow((-1), i) * pow(x, (2 * i + 1)) / math.factorial(2*i + 1)\n",
        "  return result\n",
        "\n",
        "assert round(approx_sin(x=1, n=10), 4)==0.8415\n",
        "print(round(approx_sin(x=3.14, n=10), 4))\n"
      ],
      "metadata": {
        "colab": {
          "base_uri": "https://localhost:8080/"
        },
        "id": "sux-DyRHPdDY",
        "outputId": "03a653ec-1678-4846-a9b8-7c546b71b2fe"
      },
      "execution_count": 41,
      "outputs": [
        {
          "output_type": "stream",
          "name": "stdout",
          "text": [
            "0.0016\n"
          ]
        }
      ]
    },
    {
      "cell_type": "code",
      "source": [
        "# question 11\n",
        "def approx_sinh(x, n):\n",
        "  result = 0\n",
        "  for i in range(0, n + 1):\n",
        "    result += pow(x, (2 * i + 1)) / math.factorial(2*i + 1)\n",
        "  return result\n",
        "\n",
        "assert round(approx_sinh(x=1, n=10), 2)==1.18\n",
        "print(round(approx_sinh(x=3.14, n=10), 2))"
      ],
      "metadata": {
        "colab": {
          "base_uri": "https://localhost:8080/"
        },
        "id": "CdGS5NbRPoQi",
        "outputId": "df530733-d576-42d6-ce64-987548007140"
      },
      "execution_count": 42,
      "outputs": [
        {
          "output_type": "stream",
          "name": "stdout",
          "text": [
            "11.53\n"
          ]
        }
      ]
    },
    {
      "cell_type": "code",
      "source": [
        "# question 12\n",
        "def approx_cosh(x, n):\n",
        "  result = 0\n",
        "  for i in range(0, n + 1):\n",
        "    result += pow(x, (2 * i)) / math.factorial(2*i)\n",
        "  return result\n",
        "\n",
        "assert round(approx_cosh(x=1, n=10), 2)==1.54\n",
        "print(round(approx_cosh(x=3.14, n=10), 2))"
      ],
      "metadata": {
        "colab": {
          "base_uri": "https://localhost:8080/"
        },
        "id": "2da4neY0PzAA",
        "outputId": "5fee5447-caae-4e97-f9dd-38bcbc95cb1a"
      },
      "execution_count": 43,
      "outputs": [
        {
          "output_type": "stream",
          "name": "stdout",
          "text": [
            "11.57\n"
          ]
        }
      ]
    }
  ]
}